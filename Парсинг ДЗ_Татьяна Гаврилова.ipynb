{
  "nbformat": 4,
  "nbformat_minor": 0,
  "metadata": {
    "colab": {
      "provenance": [],
      "authorship_tag": "ABX9TyOHfZ6QxyUQ8Hv6/LN5DFHT",
      "include_colab_link": true
    },
    "kernelspec": {
      "name": "python3",
      "display_name": "Python 3"
    },
    "language_info": {
      "name": "python"
    }
  },
  "cells": [
    {
      "cell_type": "markdown",
      "metadata": {
        "id": "view-in-github",
        "colab_type": "text"
      },
      "source": [
        "<a href=\"https://colab.research.google.com/github/tagakj/CL2025HSE/blob/main/%D0%9F%D0%B0%D1%80%D1%81%D0%B8%D0%BD%D0%B3%20%D0%94%D0%97_%D0%A2%D0%B0%D1%82%D1%8C%D1%8F%D0%BD%D0%B0%20%D0%93%D0%B0%D0%B2%D1%80%D0%B8%D0%BB%D0%BE%D0%B2%D0%B0.ipynb\" target=\"_parent\"><img src=\"https://colab.research.google.com/assets/colab-badge.svg\" alt=\"Open In Colab\"/></a>"
      ]
    },
    {
      "cell_type": "code",
      "execution_count": null,
      "metadata": {
        "id": "yNHTgv2hQQ9a"
      },
      "outputs": [],
      "source": [
        "import requests\n",
        "from bs4 import BeautifulSoup\n",
        "import pandas as pd\n",
        "import codecs\n",
        "import re\n",
        "import time"
      ]
    },
    {
      "cell_type": "markdown",
      "source": [
        "ЧАСТЬ 1 ДЗ: Системный Блокъ"
      ],
      "metadata": {
        "id": "5klxNkHuQXeL"
      }
    },
    {
      "cell_type": "code",
      "source": [
        "f = codecs.open(\"Системный Блокъ.html\", 'r', 'utf-8') # читаем код html из файла\n",
        "telegram = f.read() # записываем его в переменную\n",
        "f.close()"
      ],
      "metadata": {
        "id": "50PA9734QVqy"
      },
      "execution_count": null,
      "outputs": []
    },
    {
      "cell_type": "code",
      "source": [
        "soup = BeautifulSoup(telegram)\n",
        "print(soup.prettify())"
      ],
      "metadata": {
        "id": "NetCJtJYQdq0"
      },
      "execution_count": null,
      "outputs": []
    },
    {
      "cell_type": "code",
      "source": [
        "data = []\n",
        "for i in soup.find_all('div', {'class': 'body'}):\n",
        "    sender = i.find('div', {'class': 'from_name'})\n",
        "    date = i.find('div', {'class': 'pull_right date details'})\n",
        "    text = i.find('div', {'class': 'text'})\n",
        "    if None not in [sender, date, text]:\n",
        "        data.append([sender.text, date.get('title'), text.text])\n",
        "print(data)"
      ],
      "metadata": {
        "id": "S6IdzkSaQfgl"
      },
      "execution_count": null,
      "outputs": []
    },
    {
      "cell_type": "code",
      "source": [
        "df = pd.DataFrame(data, columns=['sender', 'date', 'text'])\n",
        "df.to_csv(\"Системный Блокъ.csv\", encoding = 'utf-8')\n",
        "df.to_excel(\"Системный Блокъ.xlsx\")\n",
        "df"
      ],
      "metadata": {
        "id": "Mwj-3N98QiIg"
      },
      "execution_count": null,
      "outputs": []
    },
    {
      "cell_type": "markdown",
      "source": [
        "ЧАСТЬ 2 ДЗ: Детские вопросы"
      ],
      "metadata": {
        "id": "fp4CDW2rQlf6"
      }
    },
    {
      "cell_type": "code",
      "source": [
        "urls = ['https://elementy.ru/email']\n",
        "for i in range(1,5):\n",
        "    urls.append(\"https://elementy.ru/email\"+\"?page=\"+str(i))\n",
        "print(urls)"
      ],
      "metadata": {
        "id": "TFsGT8NEQpRz"
      },
      "execution_count": null,
      "outputs": []
    },
    {
      "cell_type": "code",
      "source": [
        "links = []\n",
        "for u in urls:\n",
        "    page = requests.get(u)\n",
        "    time.sleep(3)\n",
        "    soup = BeautifulSoup(page.text)\n",
        "    for l in soup.find_all('a', {'class': 'nohover'}):\n",
        "        if \"email\" in l.get('href'):\n",
        "            links.append(\"https://elementy.ru\"+l.get('href'))\n",
        "print(links)"
      ],
      "metadata": {
        "id": "NLL1PUn9QrPk"
      },
      "execution_count": null,
      "outputs": []
    },
    {
      "cell_type": "code",
      "source": [
        "print(len(links))"
      ],
      "metadata": {
        "id": "Ac5QM6S-QtdW"
      },
      "execution_count": null,
      "outputs": []
    },
    {
      "cell_type": "code",
      "source": [
        "mix = []\n",
        "for link in links:\n",
        "    page = requests.get(link)\n",
        "    time.sleep(3)\n",
        "    soup = BeautifulSoup(page.text)\n",
        "    title = soup.find('h1', {'itemprop': 'name'}).text\n",
        "    author = soup.find('div', {'class': 'sublink'}).text.strip()\n",
        "    text = soup.find('div', {'itemprop': 'text'}).text\n",
        "    mix.append([title, author, text, link])\n",
        "print(mix)"
      ],
      "metadata": {
        "id": "s5QPsl9CQwFX"
      },
      "execution_count": null,
      "outputs": []
    },
    {
      "cell_type": "code",
      "source": [
        "df = pd.DataFrame(mix, columns=['title', 'author', 'text', 'link'])\n",
        "df.to_csv(\"Детские вопросы.csv\", encoding = 'utf-8')\n",
        "df.to_excel(\"Детские вопросы.xlsx\")\n",
        "df"
      ],
      "metadata": {
        "id": "k1_PBlwpQyay"
      },
      "execution_count": null,
      "outputs": []
    }
  ]
}